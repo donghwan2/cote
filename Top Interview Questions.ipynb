{
 "cells": [
  {
   "cell_type": "markdown",
   "id": "3b54ddf3",
   "metadata": {},
   "source": [
    "# 1. Two Sum"
   ]
  },
  {
   "cell_type": "raw",
   "id": "0d85511b",
   "metadata": {},
   "source": [
    "https://leetcode.com/problems/two-sum/"
   ]
  },
  {
   "cell_type": "code",
   "execution_count": 1,
   "id": "b693b5d2",
   "metadata": {},
   "outputs": [],
   "source": [
    "class Solution():\n",
    "    def twoSum(self, nums, target):\n",
    "        \"\"\"\n",
    "        :type nums: List[int]\n",
    "        :type target: int\n",
    "        :rtype: List[int]\n",
    "        \"\"\"\n",
    "        h = {}\n",
    "        for i, num in enumerate(nums):\n",
    "            n = target - num\n",
    "            if n not in h:\n",
    "                h[num] = i\n",
    "            else:\n",
    "                return [h[n], i]\n",
    "                print([h[n], i])\n",
    "            print(h)"
   ]
  },
  {
   "cell_type": "code",
   "execution_count": 2,
   "id": "b5291e45",
   "metadata": {},
   "outputs": [
    {
     "name": "stdout",
     "output_type": "stream",
     "text": [
      "{11: 0}\n",
      "{11: 0, 2: 1}\n",
      "{11: 0, 2: 1, 23: 2}\n"
     ]
    },
    {
     "data": {
      "text/plain": [
       "[2, 3]"
      ]
     },
     "execution_count": 2,
     "metadata": {},
     "output_type": "execute_result"
    }
   ],
   "source": [
    "solution = Solution()\n",
    "\n",
    "solution.twoSum([11,2,23,14], 37)"
   ]
  },
  {
   "cell_type": "code",
   "execution_count": 3,
   "id": "62c62489",
   "metadata": {},
   "outputs": [],
   "source": [
    "class Solution:\n",
    "    def twoSum(self, nums, target):\n",
    "        hashmap = {}\n",
    "        for i in range(len(nums)):\n",
    "            hashmap[nums[i]] = i\n",
    "        for i in range(len(nums)):\n",
    "            complement = target - nums[i]\n",
    "            if complement in hashmap and hashmap[complement] != i:\n",
    "                return [i, hashmap[complement]] "
   ]
  },
  {
   "cell_type": "code",
   "execution_count": null,
   "id": "0d3dae6a",
   "metadata": {},
   "outputs": [],
   "source": []
  },
  {
   "cell_type": "markdown",
   "id": "2515c79d",
   "metadata": {},
   "source": [
    "# 53. Maximum Subarray"
   ]
  },
  {
   "cell_type": "raw",
   "id": "ccae68bd",
   "metadata": {},
   "source": [
    "Given an integer array nums, find the contiguous subarray (containing at least one number) \n",
    "which has the largest sum and return its sum.\n",
    "(연속된 값들로 subarray를 만들 때, 가장 큰 subarrary의 합을 구해라)\n",
    "\n",
    "A subarray is a contiguous part of an array."
   ]
  },
  {
   "cell_type": "code",
   "execution_count": 4,
   "id": "9ce03654",
   "metadata": {},
   "outputs": [],
   "source": [
    "import math\n",
    "\n",
    "class Solution:\n",
    "    def maxSubArray(self, nums) -> int:\n",
    "        # :type nums : List[int]\n",
    "        max_subarray = -math.inf\n",
    "        for i in range(len(nums)):\n",
    "            current_subarray = 0\n",
    "            for j in range(i, len(nums)):\n",
    "                current_subarray += nums[j]\n",
    "                max_subarray = max(max_subarray, current_subarray)\n",
    "        \n",
    "        return max_subarray\n",
    "    \n",
    "solution = Solution()"
   ]
  },
  {
   "cell_type": "code",
   "execution_count": 5,
   "id": "07e298f0",
   "metadata": {},
   "outputs": [
    {
     "data": {
      "text/plain": [
       "6"
      ]
     },
     "execution_count": 5,
     "metadata": {},
     "output_type": "execute_result"
    }
   ],
   "source": [
    "# Example 1\n",
    "nums = [-2, 1, -3, 4, -1, 2, 1, -5, 1]\n",
    "solution.maxSubArray(nums)"
   ]
  },
  {
   "cell_type": "code",
   "execution_count": 6,
   "id": "1943aa27",
   "metadata": {
    "scrolled": true
   },
   "outputs": [
    {
     "data": {
      "text/plain": [
       "5"
      ]
     },
     "execution_count": 6,
     "metadata": {},
     "output_type": "execute_result"
    }
   ],
   "source": [
    "# Example 2\n",
    "nums = [1.4, -2.1, 3, 2]\n",
    "solution.maxSubArray(nums)"
   ]
  },
  {
   "cell_type": "code",
   "execution_count": 7,
   "id": "7fde4cef",
   "metadata": {},
   "outputs": [
    {
     "name": "stdout",
     "output_type": "stream",
     "text": [
      "1\n",
      "4\n",
      "2\n",
      "3\n",
      "8\n",
      "2\n"
     ]
    },
    {
     "data": {
      "text/plain": [
       "8"
      ]
     },
     "execution_count": 7,
     "metadata": {},
     "output_type": "execute_result"
    }
   ],
   "source": [
    "import math\n",
    "\n",
    "class Solution:\n",
    "    def maxSubArray(self, nums) -> int:\n",
    "        # Initialize our variables using the first element.\n",
    "        current_subarray = max_subarray = nums[0]\n",
    "        \n",
    "        # Start with the 2nd element since we already used the first one.\n",
    "        for num in nums[1:]:\n",
    "            # If current_subarray is negative, throw it away. Otherwise, keep adding to it.\n",
    "            current_subarray = max(num, current_subarray + num)\n",
    "            print(current_subarray)\n",
    "            max_subarray = max(max_subarray, current_subarray)\n",
    "            \n",
    "        return max_subarray\n",
    "\n",
    "solution = Solution()\n",
    "nums = [-1, 1, 3, -2, 1, 5, -6]\n",
    "\n",
    "solution.maxSubArray(nums)"
   ]
  },
  {
   "cell_type": "code",
   "execution_count": null,
   "id": "70dc5c71",
   "metadata": {},
   "outputs": [],
   "source": []
  },
  {
   "cell_type": "markdown",
   "id": "6cd1af97",
   "metadata": {},
   "source": [
    "# 20. valid parentheses"
   ]
  },
  {
   "cell_type": "raw",
   "id": "98c71bef",
   "metadata": {},
   "source": [
    "Given a string s containing just the characters '(', ')', '{', '}', '[' and ']', determine if the input string is valid.\n",
    "\n",
    "An input string is valid if:\n",
    "Open brackets must be closed by the same type of brackets.\n",
    "Open brackets must be closed in the correct order.\n",
    "\n",
    "Example 1:\n",
    "Input: s = \"()\"\n",
    "Output: true\n",
    "\n",
    "Example 2:\n",
    "Input: s = \"(]\"\n",
    "Output: false\n",
    "\n",
    "Example 3:\n",
    "Input: s = \"()[]{}\"\n",
    "Output: true"
   ]
  },
  {
   "cell_type": "code",
   "execution_count": 21,
   "id": "1ca20d2e",
   "metadata": {},
   "outputs": [
    {
     "data": {
      "text/plain": [
       "True"
      ]
     },
     "execution_count": 21,
     "metadata": {},
     "output_type": "execute_result"
    }
   ],
   "source": [
    "# 풀이 1\n",
    "class Solution:\n",
    "    def isValid(self, s):\n",
    "        while \"()\" in s or \"{}\" in s or '[]' in s:\n",
    "            s = s.replace(\"()\", \"\").replace('{}', \"\").replace('[]', \"\")\n",
    "        return s == ''\n",
    "    \n",
    "solution = Solution()\n",
    "\n",
    "solution.isValid('([{}])')"
   ]
  },
  {
   "cell_type": "code",
   "execution_count": 15,
   "id": "6d9d5bf8",
   "metadata": {},
   "outputs": [
    {
     "data": {
      "text/plain": [
       "False"
      ]
     },
     "execution_count": 15,
     "metadata": {},
     "output_type": "execute_result"
    }
   ],
   "source": [
    "solution.isValid('(]')"
   ]
  },
  {
   "cell_type": "code",
   "execution_count": 22,
   "id": "bfdea9f4",
   "metadata": {},
   "outputs": [
    {
     "data": {
      "text/plain": [
       "False"
      ]
     },
     "execution_count": 22,
     "metadata": {},
     "output_type": "execute_result"
    }
   ],
   "source": [
    "solution.isValid('({)}')"
   ]
  },
  {
   "cell_type": "code",
   "execution_count": 29,
   "id": "fc95d836",
   "metadata": {},
   "outputs": [
    {
     "data": {
      "text/plain": [
       "False"
      ]
     },
     "execution_count": 29,
     "metadata": {},
     "output_type": "execute_result"
    }
   ],
   "source": [
    "'()' in '([{}])'"
   ]
  },
  {
   "cell_type": "code",
   "execution_count": null,
   "id": "54176554",
   "metadata": {},
   "outputs": [],
   "source": []
  },
  {
   "cell_type": "code",
   "execution_count": null,
   "id": "4692f727",
   "metadata": {},
   "outputs": [],
   "source": []
  },
  {
   "cell_type": "code",
   "execution_count": null,
   "id": "d76da160",
   "metadata": {},
   "outputs": [],
   "source": []
  },
  {
   "cell_type": "code",
   "execution_count": null,
   "id": "84000a78",
   "metadata": {},
   "outputs": [],
   "source": []
  }
 ],
 "metadata": {
  "kernelspec": {
   "display_name": "Python 3",
   "language": "python",
   "name": "python3"
  },
  "language_info": {
   "codemirror_mode": {
    "name": "ipython",
    "version": 3
   },
   "file_extension": ".py",
   "mimetype": "text/x-python",
   "name": "python",
   "nbconvert_exporter": "python",
   "pygments_lexer": "ipython3",
   "version": "3.8.8"
  },
  "varInspector": {
   "cols": {
    "lenName": 16,
    "lenType": 16,
    "lenVar": 40
   },
   "kernels_config": {
    "python": {
     "delete_cmd_postfix": "",
     "delete_cmd_prefix": "del ",
     "library": "var_list.py",
     "varRefreshCmd": "print(var_dic_list())"
    },
    "r": {
     "delete_cmd_postfix": ") ",
     "delete_cmd_prefix": "rm(",
     "library": "var_list.r",
     "varRefreshCmd": "cat(var_dic_list()) "
    }
   },
   "types_to_exclude": [
    "module",
    "function",
    "builtin_function_or_method",
    "instance",
    "_Feature"
   ],
   "window_display": false
  }
 },
 "nbformat": 4,
 "nbformat_minor": 5
}
